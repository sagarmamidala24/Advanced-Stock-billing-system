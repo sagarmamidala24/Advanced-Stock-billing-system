{
 "cells": [
  {
   "cell_type": "code",
   "execution_count": 2,
   "id": "c47c348c-abb6-4e66-9971-579933b5ce65",
   "metadata": {},
   "outputs": [
    {
     "name": "stdin",
     "output_type": "stream",
     "text": [
      "Enter 1. To add new product\n",
      " 2. To view all products\n",
      " 3. To remove a product\n",
      " 4. To apply GST\n",
      " 5. To apply discounts\n",
      " 6. To generate and view the final invoice\n",
      " 1\n",
      "Enter the number of products:  2\n",
      "Enter the unique number:  1\n",
      "Enter the product name:  Lap top\n",
      "Enter the quantity of Lap top:  20\n",
      "Enter the single unit price for Lap top: ₹ 50000\n",
      "Do you want to add more products? [Y/N]:  y\n",
      "Enter the unique number:  2\n",
      "Enter the product name:  key board\n",
      "Enter the quantity of key board:  10\n",
      "Enter the single unit price for key board: ₹ 10000\n",
      "Do you want to add more products? [Y/N]:  n\n",
      "Do you want to enter another option? [Y/N]:  y\n",
      "Enter 1. To add new product\n",
      " 2. To view all products\n",
      " 3. To remove a product\n",
      " 4. To apply GST\n",
      " 5. To apply discounts\n",
      " 6. To generate and view the final invoice\n",
      " 2\n"
     ]
    },
    {
     "name": "stdout",
     "output_type": "stream",
     "text": [
      "Product ID: 1, Product Name : Lap top, Quantity : 20, Unit Price : ₹50000/-\n",
      "Product ID: 2, Product Name : key board, Quantity : 10, Unit Price : ₹10000/-\n"
     ]
    },
    {
     "name": "stdin",
     "output_type": "stream",
     "text": [
      "Do you want to enter another option? [Y/N]:  y\n",
      "Enter 1. To add new product\n",
      " 2. To view all products\n",
      " 3. To remove a product\n",
      " 4. To apply GST\n",
      " 5. To apply discounts\n",
      " 6. To generate and view the final invoice\n",
      " 3\n",
      "enter the product ID :  2\n"
     ]
    },
    {
     "name": "stdout",
     "output_type": "stream",
     "text": [
      "Product ID : 2 removed successfully\n"
     ]
    },
    {
     "name": "stdin",
     "output_type": "stream",
     "text": [
      "Do you want to enter another option? [Y/N]:  y\n",
      "Enter 1. To add new product\n",
      " 2. To view all products\n",
      " 3. To remove a product\n",
      " 4. To apply GST\n",
      " 5. To apply discounts\n",
      " 6. To generate and view the final invoice\n",
      " 4\n",
      "enter the GST:  10\n"
     ]
    },
    {
     "name": "stdout",
     "output_type": "stream",
     "text": [
      "GST of 10% applied successfully.\n"
     ]
    },
    {
     "name": "stdin",
     "output_type": "stream",
     "text": [
      "Do you want to enter another option? [Y/N]:  y\n",
      "Enter 1. To add new product\n",
      " 2. To view all products\n",
      " 3. To remove a product\n",
      " 4. To apply GST\n",
      " 5. To apply discounts\n",
      " 6. To generate and view the final invoice\n",
      " 5\n"
     ]
    },
    {
     "name": "stdout",
     "output_type": "stream",
     "text": [
      "Select Discount Type: \n",
      "  1. Percentage Discount on Total Bill \n",
      " 2. Fixed Amount Discount on Total Bill \n",
      "  3. Discount on Specific Product \n"
     ]
    },
    {
     "name": "stdin",
     "output_type": "stream",
     "text": [
      "enter the discount 1,2 or 3:  1\n"
     ]
    },
    {
     "name": "stdout",
     "output_type": "stream",
     "text": [
      "Percentage Discount on Total Bill\n"
     ]
    },
    {
     "name": "stdin",
     "output_type": "stream",
     "text": [
      "enter the discount rate  5\n"
     ]
    },
    {
     "name": "stdout",
     "output_type": "stream",
     "text": [
      "Discount rate applied Successfully on the Products\n"
     ]
    },
    {
     "name": "stdin",
     "output_type": "stream",
     "text": [
      "Do you want to enter another option? [Y/N]:  y\n",
      "Enter 1. To add new product\n",
      " 2. To view all products\n",
      " 3. To remove a product\n",
      " 4. To apply GST\n",
      " 5. To apply discounts\n",
      " 6. To generate and view the final invoice\n",
      " 6\n"
     ]
    },
    {
     "name": "stdout",
     "output_type": "stream",
     "text": [
      "------------------------------\n",
      "----------------------------------------\n",
      "Product ID :1\n",
      "Product Name : Lap top\n",
      "Quantity : 20\n",
      "Unit Price (₹): 50000\n",
      "GST @ 18% (₹): 95000.0\n",
      "Discount Amount : 50000.0\n",
      "Subtotal (₹): 1045000.00\n",
      "----------------------------------------\n"
     ]
    },
    {
     "name": "stdin",
     "output_type": "stream",
     "text": [
      "Do you want to enter another option? [Y/N]:  n\n"
     ]
    }
   ],
   "source": [
    "SKU_number = []\n",
    "product = []\n",
    "price = []\n",
    "Quantity = []\n",
    "gst_rate = 0  # Default GST Rate\n",
    "discount_rate = 0  # Default Discount Rate\n",
    "fixed_discount = 0  # Default Fixed Discount Amount\n",
    "product_discounts = {} \n",
    "\n",
    "def add_product():\n",
    "    size = int(input(\"Enter the number of products: \"))\n",
    "    for i in range(size):\n",
    "        sku = int(input(\"Enter the unique number: \"))\n",
    "        SKU_number.append(sku)\n",
    "        prod = input(\"Enter the product name: \")\n",
    "        product.append(prod)\n",
    "        qty = int(input(f\"Enter the quantity of {prod}: \"))\n",
    "        Quantity.append(qty)\n",
    "        prc = int(input(f\"Enter the single unit price for {prod}: ₹\"))\n",
    "        price.append(prc)\n",
    "        user = input(\"Do you want to add more products? [Y/N]: \")\n",
    "        if user.lower() != 'y':\n",
    "            break\n",
    "\n",
    "def view_products():\n",
    "    for i in range(len(SKU_number)):\n",
    "        print(f'Product ID: {SKU_number[i]}, Product Name : {product[i]}, Quantity : {Quantity[i]}, Unit Price : ₹{price[i]}/-')\n",
    "\n",
    "def remove_product():\n",
    "    product_id = int(input(\"enter the product ID : \"))\n",
    "    if product_id in SKU_number:\n",
    "        index = SKU_number.index(product_id)\n",
    "        SKU_number.pop(index)\n",
    "        product.pop(index)\n",
    "        price.pop(index)\n",
    "        Quantity.pop(index)\n",
    "        print(f'Product ID : {product_id} removed successfully')\n",
    "    else:\n",
    "        print(\"Product ID Not Found \")\n",
    "\n",
    "def GST():\n",
    "    global gst_rate\n",
    "    gst_rate = int(input(\"enter the GST: \"))\n",
    "    print(f\"GST of {gst_rate}% applied successfully.\")\n",
    "\n",
    "def apply_discount():\n",
    "    print(\"Select Discount Type: \\n  1. Percentage Discount on Total Bill \\n 2. Fixed Amount Discount on Total Bill \\n  3. Discount on Specific Product \")\n",
    "    user = int(input(\"enter the discount 1,2 or 3: \"))\n",
    "    global discount_rate, fixed_discount\n",
    "    if user == 1:\n",
    "        print(\"Percentage Discount on Total Bill\")\n",
    "        discount_rate = int(input(\"enter the discount rate \"))\n",
    "        print(\"Discount rate applied Successfully on the Products\")\n",
    "    elif user == 2 :\n",
    "        print(\"Fixed Amount Discount on Total Bill\")\n",
    "        fixed_discount = int(input(\"enter the fixed amount on the Total Bill : \"))\n",
    "        print(\"Fixed Amount Discount add Successfully on the Product\")\n",
    "    elif user == 3:\n",
    "        pd_discount = int(input(\"Enter the Product ID for discount: \"))\n",
    "        if pd_discount in SKU_number:\n",
    "            discount_value = float(input(\"Enter the discount percentage for this product: \"))\n",
    "            product_discounts[pd_discount] = discount_value  # Store discount separately\n",
    "            print(f\"Discount of {discount_value}% applied successfully on {product[SKU_number.index(pd_discount)]}.\")\n",
    "        else:\n",
    "            print(\"Invalid Product ID.\")\n",
    "    else:\n",
    "        print(\"Invalid option.\")\n",
    "\n",
    "def Generate_invoice():\n",
    "    print('-'*30)\n",
    "    total_price = 0\n",
    "    for i in range(len(SKU_number)):\n",
    "        product_id = SKU_number[i]\n",
    "        original_price = price[i]  # Get original price\n",
    "        item_quantity = Quantity[i]\n",
    "        discount_percent = product_discounts.get(product_id, 0)  # Default to 0 if no discount\n",
    "        discount_amount = original_price * (discount_percent / 100)\n",
    "        discounted_price = original_price - discount_amount\n",
    "\n",
    "        item_total = discounted_price * item_quantity\n",
    "        total_price += item_total   \n",
    "        \n",
    "    total_discount_amount = (total_price * discount_rate / 100) + fixed_discount\n",
    "    total_price -= total_discount_amount\n",
    "    \n",
    "    # Apply GST\n",
    "    gst_amount = (total_price * gst_rate / 100)\n",
    "    final_total = total_price + gst_amount  # Final price after GST and Discount\n",
    "\n",
    "    print(\"-\"*40)\n",
    "    print(f'Product ID :{SKU_number[i]}')\n",
    "    print(f'Product Name : {product[i]}')\n",
    "    print(f'Quantity : {Quantity[i]}')\n",
    "    print(f'Unit Price (₹): {price[i]}')\n",
    "    print(f'GST @ 18% (₹): {gst_amount}')\n",
    "    print(f'Discount Amount : {total_discount_amount}')\n",
    "    print(f'Subtotal (₹): {final_total:.2f}')\n",
    "    print(\"-\"*40)\n",
    "\n",
    "            \n",
    "                   \n",
    "\n",
    "while True :\n",
    "    switchOption = int(input(\"Enter 1. To add new product\\n 2. To view all products\\n 3. To remove a product\\n 4. To apply GST\\n 5. To apply discounts\\n 6. To generate and view the final invoice\\n\"))\n",
    "    if switchOption == 1:\n",
    "        add_product()\n",
    "    elif switchOption == 2:\n",
    "        view_products()\n",
    "    elif switchOption == 3:\n",
    "        remove_product()\n",
    "    elif switchOption == 4:\n",
    "        GST()\n",
    "    elif switchOption == 5:\n",
    "        apply_discount()\n",
    "    elif switchOption == 6:\n",
    "        Generate_invoice()\n",
    "    # You can add functionality for other options here\n",
    "    else:\n",
    "        print(\"Invalid option or functionality not implemented yet.\")\n",
    "    \n",
    "    continue_option = input(\"Do you want to enter another option? [Y/N]: \")\n",
    "    if continue_option.lower() != 'y':\n",
    "        break\n"
   ]
  }
 ],
 "metadata": {
  "kernelspec": {
   "display_name": "Python 3 (ipykernel)",
   "language": "python",
   "name": "python3"
  },
  "language_info": {
   "codemirror_mode": {
    "name": "ipython",
    "version": 3
   },
   "file_extension": ".py",
   "mimetype": "text/x-python",
   "name": "python",
   "nbconvert_exporter": "python",
   "pygments_lexer": "ipython3",
   "version": "3.12.7"
  }
 },
 "nbformat": 4,
 "nbformat_minor": 5
}
